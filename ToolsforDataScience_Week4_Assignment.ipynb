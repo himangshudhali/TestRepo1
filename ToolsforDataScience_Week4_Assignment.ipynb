{
 "cells": [
  {
   "cell_type": "markdown",
   "id": "52cbe1dd-0603-450b-b8ca-89559e2758bd",
   "metadata": {},
   "source": [
    "<h1>My Jupyter Notebook on IBM Watson Studio</h1>"
   ]
  },
  {
   "cell_type": "markdown",
   "id": "7cc5de55-fbc6-4fba-a8bb-1324b2cefad9",
   "metadata": {},
   "source": [
    "<p><strong>Himangshu Dhali</strong><br/>\n",
    "Lead Tech</p>\n"
   ]
  },
  {
   "cell_type": "markdown",
   "id": "d5af46c3-9cb5-4f7c-ab2d-b444f18cabc3",
   "metadata": {},
   "source": [
    "<i>I am interested in data science because I love working with data and analytics part of.</i>"
   ]
  },
  {
   "cell_type": "markdown",
   "id": "3a34bbd0-f78e-400f-affa-db064df9eaa9",
   "metadata": {},
   "source": [
    "<h3>The code below will create a triangle of stars using simple for loop</h3>"
   ]
  },
  {
   "cell_type": "code",
   "execution_count": 3,
   "id": "2899e643-21a9-4a9b-a729-c261c62c570b",
   "metadata": {},
   "outputs": [
    {
     "name": "stdout",
     "output_type": "stream",
     "text": [
      "\n",
      "*\n",
      "**\n",
      "***\n",
      "****\n",
      "*****\n"
     ]
    }
   ],
   "source": [
    "for i in range(6):\n",
    "    print(\"*\" * i)"
   ]
  },
  {
   "cell_type": "markdown",
   "id": "231f71d5-2199-4d44-92ae-12aba60f9ee0",
   "metadata": {},
   "source": [
    "Horizontal rule:\n",
    "<hr/>\n",
    "\n",
    "Bulleted list:\n",
    "<ul>\n",
    "    <li>Item 1</li>\n",
    "    <li>Item 2</li>\n",
    "    <li>Item 3</li>\n",
    "</ul>\n",
    "\n",
    "Image of Skills Network:\n",
    "<img src=\"https://cf-courses-data.s3.us.cloud-object-storage.appdomain.cloud/IBMDeveloperSkillsNetwork-DS0105EN-SkillsNetwork/labs/FinalModule_Coursera/images/SN_web_lightmode.png\" width=\"300\" />"
   ]
  },
  {
   "cell_type": "code",
   "execution_count": null,
   "id": "48df4878-7c79-4dbb-a27b-5da0ec71c9c8",
   "metadata": {},
   "outputs": [],
   "source": []
  }
 ],
 "metadata": {
  "kernelspec": {
   "display_name": "Python 3 (ipykernel)",
   "language": "python",
   "name": "python3"
  },
  "language_info": {
   "codemirror_mode": {
    "name": "ipython",
    "version": 3
   },
   "file_extension": ".py",
   "mimetype": "text/x-python",
   "name": "python",
   "nbconvert_exporter": "python",
   "pygments_lexer": "ipython3",
   "version": "3.8.10"
  }
 },
 "nbformat": 4,
 "nbformat_minor": 5
}
